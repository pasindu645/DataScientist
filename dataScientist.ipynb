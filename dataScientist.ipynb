{
 "cells": [
  {
   "cell_type": "markdown",
   "id": "05c7eee3",
   "metadata": {},
   "source": [
    "Task 1: Download the Question-and-Answer Dataset  "
   ]
  },
  {
   "cell_type": "markdown",
   "id": "4e9815e1",
   "metadata": {},
   "source": [
    "you can create dataframe to store your jsonal file data"
   ]
  },
  {
   "cell_type": "code",
   "execution_count": null,
   "id": "40d49773",
   "metadata": {},
   "outputs": [],
   "source": [
    "import pandas as pd\n",
    "import jsonlines  # Install this library: pip install jsonlines\n",
    "\n",
    "jsonl_file_path = 'dev.jsonl'\n",
    "\n",
    "# Initialize an empty list to store data\n",
    "data_list = []\n",
    "\n",
    "# Open the JSONL file and read line by line\n",
    "with jsonlines.open(jsonl_file_path, 'r') as reader:\n",
    "    for item in reader:\n",
    "        # Append the record to the list\n",
    "        data_list.append(item)\n",
    "\n",
    "# Create DataFrame\n",
    "df = pd.DataFrame(data_list)\n",
    "\n",
    "# Display DataFrame info (columns, data types, etc.)\n",
    "print(df.info())\n",
    "\n",
    "# Print the number of columns\n",
    "print(f\"Number of columns: {len(df.columns)}\")\n"
   ]
  },
  {
   "cell_type": "markdown",
   "id": "bc2e83c2",
   "metadata": {},
   "source": [
    "Above method can display memory issues"
   ]
  },
  {
   "cell_type": "markdown",
   "id": "ce037d65",
   "metadata": {},
   "source": [
    "You can use below method to discover what kind of dataset you have"
   ]
  },
  {
   "cell_type": "code",
   "execution_count": 12,
   "id": "107b53b8",
   "metadata": {},
   "outputs": [
    {
     "name": "stdout",
     "output_type": "stream",
     "text": [
      "                                           annotations  \\\n",
      "0    [{'annotation_id': 13591449469826568799, 'long...   \n",
      "1    [{'annotation_id': 9256543824648308180, 'long_...   \n",
      "2    [{'annotation_id': 647276088892962831, 'long_a...   \n",
      "3    [{'annotation_id': 2430977867500315580, 'long_...   \n",
      "4    [{'annotation_id': 9697565976974065308, 'long_...   \n",
      "..                                                 ...   \n",
      "995  [{'annotation_id': 9850947005047531828, 'long_...   \n",
      "996  [{'annotation_id': 14443401039595128465, 'long...   \n",
      "997  [{'annotation_id': 13936736338887547733, 'long...   \n",
      "998  [{'annotation_id': 6001080811847477710, 'long_...   \n",
      "999  [{'annotation_id': 3767820468905660496, 'long_...   \n",
      "\n",
      "                                         document_html  \\\n",
      "0    <!DOCTYPE html>\\n<HTML class=\"client-js ve-not...   \n",
      "1    <!DOCTYPE html>\\n<HTML class=\"client-js ve-not...   \n",
      "2    <!DOCTYPE html>\\n<HTML class=\"client-js ve-not...   \n",
      "3    <!DOCTYPE html>\\n<HTML class=\"client-js ve-not...   \n",
      "4    <!DOCTYPE html>\\n<HTML class=\"client-js ve-not...   \n",
      "..                                                 ...   \n",
      "995  <!DOCTYPE html>\\n<HTML class=\"client-js ve-not...   \n",
      "996  <!DOCTYPE html>\\n<HTML class=\"client-js ve-not...   \n",
      "997  <!DOCTYPE html>\\n<HTML class=\"client-js ve-not...   \n",
      "998  <!DOCTYPE html>\\n<HTML class=\"client-js ve-not...   \n",
      "999  <!DOCTYPE html>\\n<HTML class=\"client-js ve-not...   \n",
      "\n",
      "                                        document_title  \\\n",
      "0                                       Therefore sign   \n",
      "1                           Watchman (law enforcement)   \n",
      "2                        Photograph (Ringo Starr song)   \n",
      "3                          Super Bowl 50 halftime show   \n",
      "4                                          Matt Lanter   \n",
      "..                                                 ...   \n",
      "995                                         Family Guy   \n",
      "996         I Wanna Dance with Somebody (Who Loves Me)   \n",
      "997            Kurosaki-kun no Iinari ni Nante Naranai   \n",
      "998  The Lord of the Rings: The Fellowship of the Ring   \n",
      "999             2017 World Weightlifting Championships   \n",
      "\n",
      "                                       document_tokens  \\\n",
      "0    [{'end_byte': 101, 'html_token': False, 'start...   \n",
      "1    [{'end_byte': 100, 'html_token': False, 'start...   \n",
      "2    [{'end_byte': 102, 'html_token': False, 'start...   \n",
      "3    [{'end_byte': 97, 'html_token': False, 'start_...   \n",
      "4    [{'end_byte': 96, 'html_token': False, 'start_...   \n",
      "..                                                 ...   \n",
      "995  [{'end_byte': 98, 'html_token': False, 'start_...   \n",
      "996  [{'end_byte': 93, 'html_token': False, 'start_...   \n",
      "997  [{'end_byte': 100, 'html_token': False, 'start...   \n",
      "998  [{'end_byte': 95, 'html_token': False, 'start_...   \n",
      "999  [{'end_byte': 96, 'html_token': False, 'start_...   \n",
      "\n",
      "                                          document_url           example_id  \\\n",
      "0    https://en.wikipedia.org//w/index.php?title=Th...  6915606477668963399   \n",
      "1    https://en.wikipedia.org//w/index.php?title=Wa... -4505971823174084926   \n",
      "2    https://en.wikipedia.org//w/index.php?title=Ph... -8366545547296627039   \n",
      "3    https://en.wikipedia.org//w/index.php?title=Su... -5004457603684974952   \n",
      "4    https://en.wikipedia.org//w/index.php?title=Ma...  8494342737238168262   \n",
      "..                                                 ...                  ...   \n",
      "995  https://en.wikipedia.org//w/index.php?title=Fa... -5130985228372725056   \n",
      "996  https://en.wikipedia.org//w/index.php?title=I_... -1259577751352734948   \n",
      "997  https://en.wikipedia.org//w/index.php?title=Ku...  -187137657741182273   \n",
      "998  https://en.wikipedia.org//w/index.php?title=Th... -6339722844243759601   \n",
      "999  https://en.wikipedia.org//w/index.php?title=20...  5944978046678736519   \n",
      "\n",
      "                                long_answer_candidates  \\\n",
      "0    [{'end_byte': 66428, 'end_token': 808, 'start_...   \n",
      "1    [{'end_byte': 43267, 'end_token': 115, 'start_...   \n",
      "2    [{'end_byte': 49292, 'end_token': 341, 'start_...   \n",
      "3    [{'end_byte': 57752, 'end_token': 160, 'start_...   \n",
      "4    [{'end_byte': 57654, 'end_token': 79, 'start_b...   \n",
      "..                                                 ...   \n",
      "995  [{'end_byte': 65431, 'end_token': 610, 'start_...   \n",
      "996  [{'end_byte': 50923, 'end_token': 425, 'start_...   \n",
      "997  [{'end_byte': 59259, 'end_token': 258, 'start_...   \n",
      "998  [{'end_byte': 62541, 'end_token': 420, 'start_...   \n",
      "999  [{'end_byte': 58004, 'end_token': 62, 'start_b...   \n",
      "\n",
      "                                         question_text  \\\n",
      "0                      what do the 3 dots mean in math   \n",
      "1              when was the writ watch invented by who   \n",
      "2         who wrote the song photograph by ringo starr   \n",
      "3    who is playing the halftime show at super bowl...   \n",
      "4          star wars the clone wars anakin voice actor   \n",
      "..                                                 ...   \n",
      "995   are they still making new episodes of family guy   \n",
      "996  who wrote i want to dance with somebody by whi...   \n",
      "997      kurosaki kun no iinari ni nante naranai drama   \n",
      "998   the fellowship of the ring director's cut length   \n",
      "999  who won gold medal at world weightlifting cham...   \n",
      "\n",
      "                                       question_tokens  \n",
      "0             [what, do, the, 3, dots, mean, in, math]  \n",
      "1     [when, was, the, writ, watch, invented, by, who]  \n",
      "2    [who, wrote, the, song, photograph, by, ringo,...  \n",
      "3    [who, is, playing, the, halftime, show, at, su...  \n",
      "4    [star, wars, the, clone, wars, anakin, voice, ...  \n",
      "..                                                 ...  \n",
      "995  [are, they, still, making, new, episodes, of, ...  \n",
      "996  [who, wrote, i, want, to, dance, with, somebod...  \n",
      "997  [kurosaki, kun, no, iinari, ni, nante, naranai...  \n",
      "998  [the, fellowship, of, the, ring, director, 's,...  \n",
      "999  [who, won, gold, medal, at, world, weightlifti...  \n",
      "\n",
      "[1000 rows x 9 columns]\n"
     ]
    }
   ],
   "source": [
    "# Read only the first 100 rows\n",
    "import pandas as pd\n",
    "data_url = \"dev.jsonl\"\n",
    "df1 = pd.read_json(data_url, lines=True, nrows=1000)\n",
    "\n",
    "# Display the data\n",
    "print(df1)"
   ]
  },
  {
   "cell_type": "code",
   "execution_count": 13,
   "id": "aebeeddd",
   "metadata": {},
   "outputs": [
    {
     "name": "stdout",
     "output_type": "stream",
     "text": [
      "<class 'pandas.core.frame.DataFrame'>\n",
      "RangeIndex: 1000 entries, 0 to 999\n",
      "Data columns (total 9 columns):\n",
      " #   Column                  Non-Null Count  Dtype \n",
      "---  ------                  --------------  ----- \n",
      " 0   annotations             1000 non-null   object\n",
      " 1   document_html           1000 non-null   object\n",
      " 2   document_title          1000 non-null   object\n",
      " 3   document_tokens         1000 non-null   object\n",
      " 4   document_url            1000 non-null   object\n",
      " 5   example_id              1000 non-null   int64 \n",
      " 6   long_answer_candidates  1000 non-null   object\n",
      " 7   question_text           1000 non-null   object\n",
      " 8   question_tokens         1000 non-null   object\n",
      "dtypes: int64(1), object(8)\n",
      "memory usage: 70.4+ KB\n"
     ]
    }
   ],
   "source": [
    "df1.info()"
   ]
  },
  {
   "cell_type": "code",
   "execution_count": 14,
   "id": "1ecc1088",
   "metadata": {},
   "outputs": [
    {
     "name": "stdout",
     "output_type": "stream",
     "text": [
      "Number of columns: 9\n",
      "Column names: ['annotations', 'document_html', 'document_title', 'document_tokens', 'document_url', 'example_id', 'long_answer_candidates', 'question_text', 'question_tokens']\n"
     ]
    }
   ],
   "source": [
    "# After reading the data (your `df1` variable)\n",
    "print(f\"Number of columns: {len(df1.columns)}\")\n",
    "print(f\"Column names: {list(df1.columns)}\")\n"
   ]
  },
  {
   "cell_type": "markdown",
   "id": "f031fca9",
   "metadata": {},
   "source": [
    "task 2: Clean the Dataset and Prepare a CSV file"
   ]
  },
  {
   "cell_type": "code",
   "execution_count": null,
   "id": "e683900b",
   "metadata": {},
   "outputs": [
    {
     "name": "stdout",
     "output_type": "stream",
     "text": [
      "<class 'pandas.core.frame.DataFrame'>\n",
      "RangeIndex: 7830 entries, 0 to 7829\n",
      "Data columns (total 4 columns):\n",
      " #   Column          Non-Null Count  Dtype \n",
      "---  ------          --------------  ----- \n",
      " 0   document_title  7830 non-null   object\n",
      " 1   question_text   7830 non-null   object\n",
      " 2   short_answer    7830 non-null   object\n",
      " 3   yes_no_answer   7830 non-null   object\n",
      "dtypes: object(4)\n",
      "memory usage: 244.8+ KB\n",
      "None\n"
     ]
    }
   ],
   "source": [
    "import pandas as pd\n",
    "import jsonlines  # Install this library: pip install jsonlines. this is very useful to read large datasets.\n",
    "\n",
    "jsonl_file_path = 'dev.jsonl'\n",
    "csv_output_path = 'dev1.csv'\n",
    "\n",
    "# Initialize lists to store data\n",
    "document_title_list = []\n",
    "question_text_list = []\n",
    "short_answer_list = []\n",
    "yes_no_answer_list = []\n",
    "\n",
    "\n",
    "# Open the JSONL file and read line by line\n",
    "with jsonlines.open(jsonl_file_path, 'r') as reader:\n",
    "    for item in reader:\n",
    "        document_title_list.append(item.get('document_title', ''))\n",
    "        question_text_list.append(item.get('question_text', ''))\n",
    "        short_answer_list.append(item.get('short_answer',''))\n",
    "        yes_no_answer_list.append(item.get('yes_no_answer',''))\n",
    "        \n",
    "        # Handle multiple short answers\n",
    "        short_answers = item.get('short_answer', [])\n",
    "        for i, answer in enumerate(short_answers, start=1):\n",
    "            short_answer_list.append(f'short_answer{i}' if i > 1 else 'short_answer')\n",
    "            \n",
    "\n",
    "# Create DataFrame\n",
    "df = pd.DataFrame({\n",
    "    'document_title': document_title_list,\n",
    "    'question_text': question_text_list,\n",
    "    'short_answer': short_answer_list,\n",
    "    'yes_no_answer': yes_no_answer_list,\n",
    "    \n",
    "})\n",
    "\n",
    "# Deal with missing values (example)\n",
    "df = df.dropna()  # Remove rows with missing values\n",
    "\n",
    "# Save to CSV\n",
    "df.to_csv(csv_output_path, index=False)\n",
    "\n",
    "# Display DataFrame info (columns, data types, etc.)\n",
    "print(df.info())\n"
   ]
  },
  {
   "cell_type": "markdown",
   "id": "cfd897ca",
   "metadata": {},
   "source": [
    "Task 3: Build a Streamlit web app\n",
    "\n"
   ]
  },
  {
   "cell_type": "markdown",
   "id": "d78e7105",
   "metadata": {},
   "source": [
    "let's create a Streamlit app using the cleaned dataset"
   ]
  },
  {
   "cell_type": "code",
   "execution_count": null,
   "id": "763be5ba",
   "metadata": {},
   "outputs": [],
   "source": [
    "import streamlit as st\n",
    "\n",
    "# Load the CSV\n",
    "df = pd.read_csv(\"dev.csv\")\n",
    "\n",
    "# Create filter options\n",
    "title_filter = st.selectbox(\"Filter by document_title\", df[\"document_title\"].unique())\n",
    "question_text_filter = st.text_input(\"Filter by question_text\")\n",
    "\n",
    "# Apply filters\n",
    "filtered_df = df.loc[(df[\"document_title\"] == title_filter) & (df[\"question_text\"].str.contains(question_text_filter))]\n",
    "\n",
    "# Streamlit app\n",
    "st.title('Q&A Session')\n",
    "\n",
    "# Display the filtered dataset\n",
    "st.dataframe(filtered_df)\n"
   ]
  }
 ],
 "metadata": {
  "kernelspec": {
   "display_name": "Python 3 (ipykernel)",
   "language": "python",
   "name": "python3"
  },
  "language_info": {
   "codemirror_mode": {
    "name": "ipython",
    "version": 3
   },
   "file_extension": ".py",
   "mimetype": "text/x-python",
   "name": "python",
   "nbconvert_exporter": "python",
   "pygments_lexer": "ipython3",
   "version": "3.10.10"
  }
 },
 "nbformat": 4,
 "nbformat_minor": 5
}
